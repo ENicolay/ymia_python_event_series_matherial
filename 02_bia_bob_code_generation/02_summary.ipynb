{
 "cells": [
  {
   "cell_type": "markdown",
   "id": "2f3eed6a-c701-48e3-98b3-3d3978b77272",
   "metadata": {},
   "source": [
    "# Summary notebook\n",
    "After a lot of code has been generated in the first notebook, we asked the LLM to produce a piece of summary code that can be used in subsequent analysis. \n",
    "After some curation, we came up with this final solution."
   ]
  },
  {
   "cell_type": "code",
   "execution_count": 3,
   "id": "ef141f6a-1687-4225-97e2-b3281d1a16d7",
   "metadata": {},
   "outputs": [
    {
     "data": {
      "text/html": [
       "<div>\n",
       "<style scoped>\n",
       "    .dataframe tbody tr th:only-of-type {\n",
       "        vertical-align: middle;\n",
       "    }\n",
       "\n",
       "    .dataframe tbody tr th {\n",
       "        vertical-align: top;\n",
       "    }\n",
       "\n",
       "    .dataframe thead th {\n",
       "        text-align: right;\n",
       "    }\n",
       "</style>\n",
       "<table border=\"1\" class=\"dataframe\">\n",
       "  <thead>\n",
       "    <tr style=\"text-align: right;\">\n",
       "      <th></th>\n",
       "      <th>label</th>\n",
       "      <th>area</th>\n",
       "      <th>mean_intensity</th>\n",
       "      <th>feret_diameter_max</th>\n",
       "    </tr>\n",
       "  </thead>\n",
       "  <tbody>\n",
       "    <tr>\n",
       "      <th>0</th>\n",
       "      <td>1</td>\n",
       "      <td>433.0</td>\n",
       "      <td>190.854503</td>\n",
       "      <td>36.055513</td>\n",
       "    </tr>\n",
       "    <tr>\n",
       "      <th>1</th>\n",
       "      <td>2</td>\n",
       "      <td>185.0</td>\n",
       "      <td>179.286486</td>\n",
       "      <td>21.377558</td>\n",
       "    </tr>\n",
       "    <tr>\n",
       "      <th>2</th>\n",
       "      <td>3</td>\n",
       "      <td>658.0</td>\n",
       "      <td>205.617021</td>\n",
       "      <td>32.449961</td>\n",
       "    </tr>\n",
       "    <tr>\n",
       "      <th>3</th>\n",
       "      <td>4</td>\n",
       "      <td>434.0</td>\n",
       "      <td>217.327189</td>\n",
       "      <td>26.925824</td>\n",
       "    </tr>\n",
       "    <tr>\n",
       "      <th>4</th>\n",
       "      <td>5</td>\n",
       "      <td>477.0</td>\n",
       "      <td>212.142558</td>\n",
       "      <td>31.384710</td>\n",
       "    </tr>\n",
       "  </tbody>\n",
       "</table>\n",
       "</div>"
      ],
      "text/plain": [
       "   label   area  mean_intensity  feret_diameter_max\n",
       "0      1  433.0      190.854503           36.055513\n",
       "1      2  185.0      179.286486           21.377558\n",
       "2      3  658.0      205.617021           32.449961\n",
       "3      4  434.0      217.327189           26.925824\n",
       "4      5  477.0      212.142558           31.384710"
      ]
     },
     "execution_count": 3,
     "metadata": {},
     "output_type": "execute_result"
    }
   ],
   "source": [
    "from skimage.filters import threshold_otsu\n",
    "from skimage.morphology import label\n",
    "import pyclesperanto_prototype as cle\n",
    "from skimage.io import imread\n",
    "from skimage.measure import regionprops_table\n",
    "import pandas as pd\n",
    "\n",
    "def analyze_image(filename):\n",
    "    # Load the image\n",
    "    image = imread(filename)\n",
    "    \n",
    "    # Apply Otsu's threshold to binarize the image\n",
    "    threshold = threshold_otsu(image)\n",
    "    binary_image = image > threshold\n",
    "    \n",
    "    # Perform connected components labeling\n",
    "    labeled_image = label(binary_image)\n",
    "    \n",
    "    # Measure properties of labeled objects\n",
    "    properties = ['label', 'area', 'mean_intensity', 'feret_diameter_max']\n",
    "    measurements = regionprops_table(labeled_image, intensity_image=image, properties=properties)\n",
    "    \n",
    "    # Convert measurements to a DataFrame\n",
    "    df = pd.DataFrame(measurements)\n",
    "    \n",
    "    # Return the DataFrame\n",
    "    return df\n",
    "\n",
    "# Usage\n",
    "df_results = analyze_image(\"blobs.tif\")\n",
    "df_results.head()"
   ]
  },
  {
   "cell_type": "code",
   "execution_count": null,
   "id": "f0ef771d-d026-4559-8bf6-ae0a88218035",
   "metadata": {},
   "outputs": [],
   "source": []
  }
 ],
 "metadata": {
  "kernelspec": {
   "display_name": "Python 3 (ipykernel)",
   "language": "python",
   "name": "python3"
  },
  "language_info": {
   "codemirror_mode": {
    "name": "ipython",
    "version": 3
   },
   "file_extension": ".py",
   "mimetype": "text/x-python",
   "name": "python",
   "nbconvert_exporter": "python",
   "pygments_lexer": "ipython3",
   "version": "3.10.14"
  }
 },
 "nbformat": 4,
 "nbformat_minor": 5
}
