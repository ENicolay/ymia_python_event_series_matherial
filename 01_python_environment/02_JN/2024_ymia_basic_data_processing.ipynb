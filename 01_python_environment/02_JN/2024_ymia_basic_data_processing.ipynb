{
 "cells": [
  {
   "metadata": {},
   "cell_type": "markdown",
   "source": "## Import necessary libraries",
   "id": "8d9373ab2e5859dd"
  },
  {
   "cell_type": "code",
   "id": "648b74fd-5832-4639-a827-41907c5cc45e",
   "metadata": {},
   "source": [
    "import tifffile\n",
    "\n",
    "from skimage.io import imread\n",
    "from microfilm.microplot import microshow\n",
    "from skimage import filters, morphology, measure\n",
    "from matplotlib import pyplot as plt\n",
    "from skimage.color import label2rgb"
   ],
   "outputs": [],
   "execution_count": null
  },
  {
   "metadata": {},
   "cell_type": "markdown",
   "source": "## Pre-processing Steps",
   "id": "b9be0117244863d0"
  },
  {
   "metadata": {},
   "cell_type": "markdown",
   "source": "### 1) Upload the image and analysis basics",
   "id": "b12f2fedb11ca6a0"
  },
  {
   "cell_type": "code",
   "id": "a4fe6931-d715-4aa8-af36-6d3d954c4bab",
   "metadata": {},
   "source": [
    "## Read Image and store it in a variable\n",
    "full_image = imread(\"01-A-01.ome.tif\")\n",
    "## Visualize the numpy array\n",
    "type(full_image)\n",
    "full_image\n",
    "## Check the image dimensions\n",
    "full_image.shape"
   ],
   "outputs": [],
   "execution_count": null
  },
  {
   "metadata": {},
   "cell_type": "markdown",
   "source": "### 2) Visualize the full image",
   "id": "208387ab07809b11"
  },
  {
   "cell_type": "code",
   "id": "ef500445-ad7d-4812-b962-78223af4bd00",
   "metadata": {},
   "source": [
    "microshow(full_image[1])"
   ],
   "outputs": [],
   "execution_count": null
  },
  {
   "metadata": {},
   "cell_type": "markdown",
   "source": "### 3) Visualize the full image plus the single channels",
   "id": "10b794faddc75820"
  },
  {
   "cell_type": "code",
   "id": "0895a94b-440c-4fe8-acb4-d8122ea48e32",
   "metadata": {},
   "source": [
    "nuclei = full_image[0]\n",
    "cyto = full_image[1]\n",
    "\n",
    "fig, axs = plt.subplots(1,3, figsize=(20,20))\n",
    "microshow(full_image, ax=axs[0], label_text= 'Original', label_font_size=10, label_color='white')\n",
    "microshow(nuclei, ax=axs[1], label_text='Nuclei', label_font_size=10, label_color='white')\n",
    "microshow(cyto, ax=axs[2], label_text='Cytoplasm', label_font_size=10, label_color='white')"
   ],
   "outputs": [],
   "execution_count": null
  },
  {
   "metadata": {},
   "cell_type": "markdown",
   "source": "## Processing",
   "id": "47a1fd3b4163a541"
  },
  {
   "metadata": {},
   "cell_type": "markdown",
   "source": "### 1) Background removal with gaussian filter",
   "id": "e8b78d30a2eb192f"
  },
  {
   "cell_type": "code",
   "id": "02622c95-01bb-4ea8-b5b9-1070d7e61cf6",
   "metadata": {},
   "source": [
    "background_nuclei = filters.gaussian(nuclei, sigma=100, preserve_range=True)\n",
    "denoised_nuclei = nuclei - background_nuclei\n",
    "fig, axs = plt.subplots(1, 2, figsize=(10,10))\n",
    "\n",
    "microshow(nuclei, ax=axs[0], label_text='Nuclei - Original', label_color='white')\n",
    "microshow(denoised_nuclei, ax=axs[1], label_text='Nuclei - Processed', label_color='white')"
   ],
   "outputs": [],
   "execution_count": null
  },
  {
   "metadata": {},
   "cell_type": "markdown",
   "source": "### 2) Denoising ",
   "id": "9e66d9a726bb7d8"
  },
  {
   "cell_type": "code",
   "id": "9508f242-ec8e-48b0-9c0d-1d96b6321cb1",
   "metadata": {},
   "source": [
    "nuclei_gaussian = filters.gaussian(denoised_nuclei, sigma=2)\n",
    "\n",
    "fig, axs = plt.subplots(1,2, figsize=(10,10))\n",
    "microshow(nuclei, ax=axs[0], label_text='Nuclei - Original', label_color='white')\n",
    "microshow(nuclei_gaussian, ax=axs[1], label_text='Nuclei - Processed', label_color='white')"
   ],
   "outputs": [],
   "execution_count": null
  },
  {
   "metadata": {},
   "cell_type": "markdown",
   "source": "### 3) Threshold, binarization and labelling",
   "id": "197ea2bf2770fe5d"
  },
  {
   "cell_type": "code",
   "id": "9dac2415-7251-4f84-9ba6-4f4459c4f420",
   "metadata": {},
   "source": [
    "# create a square with width and height = 3\n",
    "square = morphology.square(5) \n",
    "square\n",
    "\n",
    "threshold = filters.threshold_otsu(nuclei_gaussian)\n",
    "binary_image = nuclei_gaussian >= threshold\n",
    "opened = morphology.binary_opening(binary_image, square)\n",
    "labeled_blobs = measure.label(opened)\n",
    "cleaned = morphology.remove_small_objects(labeled_blobs, min_size=50)\n",
    "\n",
    "fig, axs = plt.subplots(1,3, figsize=(10,10))\n",
    "\n",
    "microshow(nuclei_gaussian, ax=axs[0], label_text='Original', label_color='white')\n",
    "microshow(opened, ax=axs[1], label_text='Binary', label_color='white')\n",
    "microshow(cleaned, ax=axs[2], label_text='Labels', label_color='white')"
   ],
   "outputs": [],
   "execution_count": null
  },
  {
   "metadata": {},
   "cell_type": "markdown",
   "source": "### 4) Overlap labelling on the original image",
   "id": "21228315ce58e902"
  },
  {
   "cell_type": "code",
   "id": "c14fb147-b677-4f37-856b-5bfe233d1648",
   "metadata": {},
   "source": [
    "image_label_overlay = label2rgb(cleaned, image=nuclei, bg_label=0)\n",
    "\n",
    "fig, ax = plt.subplots(figsize=(10, 6))\n",
    "ax.imshow(image_label_overlay)"
   ],
   "outputs": [],
   "execution_count": null
  },
  {
   "metadata": {},
   "cell_type": "markdown",
   "source": "## Saving result",
   "id": "5c05d3bd19af3b6b"
  },
  {
   "metadata": {},
   "cell_type": "code",
   "source": [
    "tifffile.imwrite('labelled.tif_01-A-01.ome.tif', image_label_overlay, \n",
    "                 dtype=image_label_overlay.dtype, \n",
    "                 shape=image_label_overlay.shape)"
   ],
   "id": "cdc2dabb-d3a7-42e4-8b5f-c493975558ac",
   "outputs": [],
   "execution_count": null
  }
 ],
 "metadata": {
  "kernelspec": {
   "display_name": "Python 3 (ipykernel)",
   "language": "python",
   "name": "python3"
  },
  "language_info": {
   "codemirror_mode": {
    "name": "ipython",
    "version": 3
   },
   "file_extension": ".py",
   "mimetype": "text/x-python",
   "name": "python",
   "nbconvert_exporter": "python",
   "pygments_lexer": "ipython3",
   "version": "3.8.20"
  }
 },
 "nbformat": 4,
 "nbformat_minor": 5
}
